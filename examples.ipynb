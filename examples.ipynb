{
 "cells": [
  {
   "cell_type": "code",
   "execution_count": 1,
   "id": "75142833",
   "metadata": {},
   "outputs": [],
   "source": [
    "from v2d.core import Point, Vector"
   ]
  },
  {
   "cell_type": "markdown",
   "id": "7c11b269",
   "metadata": {},
   "source": [
    "# Nokta\n",
    "\n",
    "Nokta oluşturma"
   ]
  },
  {
   "cell_type": "code",
   "execution_count": 2,
   "id": "6c1aedc8",
   "metadata": {},
   "outputs": [
    {
     "name": "stdout",
     "output_type": "stream",
     "text": [
      "Point(x=1, y=1)\n",
      "Point(x=3, y=5)\n"
     ]
    }
   ],
   "source": [
    "p1 = Point(x=1, y=1)\n",
    "p2 = Point(3, 5)\n",
    "print(p1)\n",
    "print(p2)"
   ]
  },
  {
   "cell_type": "markdown",
   "id": "539c2eb5",
   "metadata": {},
   "source": [
    "## Toplama/Çıkarma\n",
    "\n",
    "Toplama ve çıkarma işlemlerine örnek"
   ]
  },
  {
   "cell_type": "markdown",
   "id": "7ff321d1",
   "metadata": {},
   "source": [
    "### Toplama\n",
    "\n",
    "Toplama işlemi iki nokta arasında gerçekleşebilir. *add* metodunun yanı sıra *+* operatörü de kullanılabilir."
   ]
  },
  {
   "cell_type": "code",
   "execution_count": 3,
   "id": "5cac4c9f",
   "metadata": {},
   "outputs": [
    {
     "data": {
      "text/plain": [
       "Point(x=4, y=6)"
      ]
     },
     "execution_count": 3,
     "metadata": {},
     "output_type": "execute_result"
    }
   ],
   "source": [
    "p1.add(p2)"
   ]
  },
  {
   "cell_type": "code",
   "execution_count": 4,
   "id": "a0d703e3",
   "metadata": {},
   "outputs": [
    {
     "data": {
      "text/plain": [
       "Point(x=4, y=6)"
      ]
     },
     "execution_count": 4,
     "metadata": {},
     "output_type": "execute_result"
    }
   ],
   "source": [
    "p1 + p2"
   ]
  },
  {
   "cell_type": "markdown",
   "id": "a2825271",
   "metadata": {},
   "source": [
    "### Çıkarma\n",
    "Çıkarma işlemi iki nokta arasında gerçekleşebilir. *sub* metodunun yanı sıra *-* operatörü de kullanılabilir."
   ]
  },
  {
   "cell_type": "code",
   "execution_count": 5,
   "id": "e6a8331b",
   "metadata": {},
   "outputs": [
    {
     "data": {
      "text/plain": [
       "Point(x=-2, y=-4)"
      ]
     },
     "execution_count": 5,
     "metadata": {},
     "output_type": "execute_result"
    }
   ],
   "source": [
    "p1.sub(p2)"
   ]
  },
  {
   "cell_type": "code",
   "execution_count": 6,
   "id": "136fa652",
   "metadata": {
    "scrolled": true
   },
   "outputs": [
    {
     "data": {
      "text/plain": [
       "Point(x=-2, y=-4)"
      ]
     },
     "execution_count": 6,
     "metadata": {},
     "output_type": "execute_result"
    }
   ],
   "source": [
    "p1 - p2"
   ]
  },
  {
   "cell_type": "markdown",
   "id": "5827214a",
   "metadata": {},
   "source": [
    "### Hata\n",
    "\n",
    "Çıkarma/Toplama işlemi bir nokta ve nokta olmayan bir değer ile yapılırsa hata alınır"
   ]
  },
  {
   "cell_type": "code",
   "execution_count": 7,
   "id": "894bcc59",
   "metadata": {},
   "outputs": [
    {
     "ename": "ValueError",
     "evalue": "other must be a point",
     "output_type": "error",
     "traceback": [
      "\u001b[1;31m---------------------------------------------------------------------------\u001b[0m",
      "\u001b[1;31mValueError\u001b[0m                                Traceback (most recent call last)",
      "\u001b[1;32m~\\AppData\\Local\\Temp/ipykernel_18996/2802610328.py\u001b[0m in \u001b[0;36m<module>\u001b[1;34m\u001b[0m\n\u001b[1;32m----> 1\u001b[1;33m \u001b[0mp1\u001b[0m \u001b[1;33m-\u001b[0m \u001b[1;36m3\u001b[0m\u001b[1;33m\u001b[0m\u001b[1;33m\u001b[0m\u001b[0m\n\u001b[0m",
      "\u001b[1;32m~\\PycharmProjects\\v2d\\v2d\\core.py\u001b[0m in \u001b[0;36m__sub__\u001b[1;34m(self, other)\u001b[0m\n\u001b[0;32m     26\u001b[0m \u001b[1;33m\u001b[0m\u001b[0m\n\u001b[0;32m     27\u001b[0m     \u001b[1;32mdef\u001b[0m \u001b[0m__sub__\u001b[0m\u001b[1;33m(\u001b[0m\u001b[0mself\u001b[0m\u001b[1;33m,\u001b[0m \u001b[0mother\u001b[0m\u001b[1;33m)\u001b[0m\u001b[1;33m:\u001b[0m\u001b[1;33m\u001b[0m\u001b[1;33m\u001b[0m\u001b[0m\n\u001b[1;32m---> 28\u001b[1;33m         \u001b[1;32mreturn\u001b[0m \u001b[0mself\u001b[0m\u001b[1;33m.\u001b[0m\u001b[0msub\u001b[0m\u001b[1;33m(\u001b[0m\u001b[0mother\u001b[0m\u001b[1;33m)\u001b[0m\u001b[1;33m\u001b[0m\u001b[1;33m\u001b[0m\u001b[0m\n\u001b[0m\u001b[0;32m     29\u001b[0m \u001b[1;33m\u001b[0m\u001b[0m\n\u001b[0;32m     30\u001b[0m     \u001b[1;32mdef\u001b[0m \u001b[0m__mul__\u001b[0m\u001b[1;33m(\u001b[0m\u001b[0mself\u001b[0m\u001b[1;33m,\u001b[0m \u001b[0mother\u001b[0m\u001b[1;33m)\u001b[0m\u001b[1;33m:\u001b[0m\u001b[1;33m\u001b[0m\u001b[1;33m\u001b[0m\u001b[0m\n",
      "\u001b[1;32m~\\PycharmProjects\\v2d\\v2d\\core.py\u001b[0m in \u001b[0;36msub\u001b[1;34m(self, other)\u001b[0m\n\u001b[0;32m     47\u001b[0m     \u001b[1;32mdef\u001b[0m \u001b[0msub\u001b[0m\u001b[1;33m(\u001b[0m\u001b[0mself\u001b[0m\u001b[1;33m,\u001b[0m \u001b[0mother\u001b[0m\u001b[1;33m)\u001b[0m\u001b[1;33m:\u001b[0m\u001b[1;33m\u001b[0m\u001b[1;33m\u001b[0m\u001b[0m\n\u001b[0;32m     48\u001b[0m         \u001b[1;32mif\u001b[0m \u001b[1;32mnot\u001b[0m \u001b[0misinstance\u001b[0m\u001b[1;33m(\u001b[0m\u001b[0mother\u001b[0m\u001b[1;33m,\u001b[0m \u001b[0mPoint\u001b[0m\u001b[1;33m)\u001b[0m\u001b[1;33m:\u001b[0m\u001b[1;33m\u001b[0m\u001b[1;33m\u001b[0m\u001b[0m\n\u001b[1;32m---> 49\u001b[1;33m             \u001b[1;32mraise\u001b[0m \u001b[0mValueError\u001b[0m\u001b[1;33m(\u001b[0m\u001b[1;34m\"other must be a point\"\u001b[0m\u001b[1;33m)\u001b[0m\u001b[1;33m\u001b[0m\u001b[1;33m\u001b[0m\u001b[0m\n\u001b[0m\u001b[0;32m     50\u001b[0m         \u001b[1;32mreturn\u001b[0m \u001b[0mself\u001b[0m\u001b[1;33m.\u001b[0m\u001b[0madd\u001b[0m\u001b[1;33m(\u001b[0m\u001b[1;33m-\u001b[0m\u001b[0mother\u001b[0m\u001b[1;33m)\u001b[0m\u001b[1;33m\u001b[0m\u001b[1;33m\u001b[0m\u001b[0m\n\u001b[0;32m     51\u001b[0m \u001b[1;33m\u001b[0m\u001b[0m\n",
      "\u001b[1;31mValueError\u001b[0m: other must be a point"
     ]
    }
   ],
   "source": [
    "p1 - 3"
   ]
  },
  {
   "cell_type": "markdown",
   "id": "b7d9e025",
   "metadata": {},
   "source": [
    "## Çarpma/Bölme\n",
    "\n",
    "Çarpma ve Gölme işlemlerine örnek"
   ]
  },
  {
   "cell_type": "markdown",
   "id": "41f788c0",
   "metadata": {},
   "source": [
    "### Çarpma\n",
    "Çarpma işlemi bir nokta ve bir skaler arasında gerçekleşebilir. *mult* metodunun yanı sıra \\* operatörü de kullanılabilir."
   ]
  },
  {
   "cell_type": "code",
   "execution_count": 8,
   "id": "9837b34e",
   "metadata": {},
   "outputs": [
    {
     "data": {
      "text/plain": [
       "Point(x=2, y=2)"
      ]
     },
     "execution_count": 8,
     "metadata": {},
     "output_type": "execute_result"
    }
   ],
   "source": [
    "p1.mult(2)"
   ]
  },
  {
   "cell_type": "code",
   "execution_count": 9,
   "id": "585e6ce2",
   "metadata": {},
   "outputs": [
    {
     "data": {
      "text/plain": [
       "Point(x=2, y=2)"
      ]
     },
     "execution_count": 9,
     "metadata": {},
     "output_type": "execute_result"
    }
   ],
   "source": [
    "p1 * 2"
   ]
  },
  {
   "cell_type": "code",
   "execution_count": 10,
   "id": "18c6d19f",
   "metadata": {},
   "outputs": [
    {
     "data": {
      "text/plain": [
       "Point(x=2, y=2)"
      ]
     },
     "execution_count": 10,
     "metadata": {},
     "output_type": "execute_result"
    }
   ],
   "source": [
    "2 * p1"
   ]
  },
  {
   "cell_type": "markdown",
   "id": "fa4d95d5",
   "metadata": {},
   "source": [
    "### Bölme\n",
    "Bölme işlemi bir nokta ve bir skaler arasında gerçekleşebilir. *div* metodunun yanı sıra / operatörü de kullanılabilir."
   ]
  },
  {
   "cell_type": "code",
   "execution_count": 11,
   "id": "78db6504",
   "metadata": {},
   "outputs": [
    {
     "data": {
      "text/plain": [
       "Point(x=0.5, y=0.5)"
      ]
     },
     "execution_count": 11,
     "metadata": {},
     "output_type": "execute_result"
    }
   ],
   "source": [
    "p1.div(2)"
   ]
  },
  {
   "cell_type": "code",
   "execution_count": 12,
   "id": "64d7594c",
   "metadata": {},
   "outputs": [
    {
     "data": {
      "text/plain": [
       "Point(x=0.5, y=0.5)"
      ]
     },
     "execution_count": 12,
     "metadata": {},
     "output_type": "execute_result"
    }
   ],
   "source": [
    "p1/2"
   ]
  },
  {
   "cell_type": "markdown",
   "id": "6390226e",
   "metadata": {},
   "source": [
    "### Hata\n",
    "Çarpma/Bölme işlemi bir nokta ve skaler olmayan bir değer ile yapılırsa hata alınır"
   ]
  },
  {
   "cell_type": "code",
   "execution_count": 13,
   "id": "3283ae2a",
   "metadata": {},
   "outputs": [
    {
     "ename": "ValueError",
     "evalue": "scalar must be a numeric",
     "output_type": "error",
     "traceback": [
      "\u001b[1;31m---------------------------------------------------------------------------\u001b[0m",
      "\u001b[1;31mValueError\u001b[0m                                Traceback (most recent call last)",
      "\u001b[1;32m~\\AppData\\Local\\Temp/ipykernel_18996/574804113.py\u001b[0m in \u001b[0;36m<module>\u001b[1;34m\u001b[0m\n\u001b[1;32m----> 1\u001b[1;33m \u001b[0mp1\u001b[0m\u001b[1;33m/\u001b[0m\u001b[0mp2\u001b[0m\u001b[1;33m\u001b[0m\u001b[1;33m\u001b[0m\u001b[0m\n\u001b[0m",
      "\u001b[1;32m~\\PycharmProjects\\v2d\\v2d\\core.py\u001b[0m in \u001b[0;36m__truediv__\u001b[1;34m(self, other)\u001b[0m\n\u001b[0;32m     35\u001b[0m \u001b[1;33m\u001b[0m\u001b[0m\n\u001b[0;32m     36\u001b[0m     \u001b[1;32mdef\u001b[0m \u001b[0m__truediv__\u001b[0m\u001b[1;33m(\u001b[0m\u001b[0mself\u001b[0m\u001b[1;33m,\u001b[0m \u001b[0mother\u001b[0m\u001b[1;33m)\u001b[0m\u001b[1;33m:\u001b[0m\u001b[1;33m\u001b[0m\u001b[1;33m\u001b[0m\u001b[0m\n\u001b[1;32m---> 37\u001b[1;33m         \u001b[1;32mreturn\u001b[0m \u001b[0mself\u001b[0m\u001b[1;33m.\u001b[0m\u001b[0mdiv\u001b[0m\u001b[1;33m(\u001b[0m\u001b[0mother\u001b[0m\u001b[1;33m)\u001b[0m\u001b[1;33m\u001b[0m\u001b[1;33m\u001b[0m\u001b[0m\n\u001b[0m\u001b[0;32m     38\u001b[0m \u001b[1;33m\u001b[0m\u001b[0m\n\u001b[0;32m     39\u001b[0m     \u001b[1;32mdef\u001b[0m \u001b[0m__eq__\u001b[0m\u001b[1;33m(\u001b[0m\u001b[0mself\u001b[0m\u001b[1;33m,\u001b[0m \u001b[0mother\u001b[0m\u001b[1;33m)\u001b[0m\u001b[1;33m:\u001b[0m\u001b[1;33m\u001b[0m\u001b[1;33m\u001b[0m\u001b[0m\n",
      "\u001b[1;32m~\\PycharmProjects\\v2d\\v2d\\core.py\u001b[0m in \u001b[0;36mdiv\u001b[1;34m(self, scalar)\u001b[0m\n\u001b[0;32m     57\u001b[0m     \u001b[1;32mdef\u001b[0m \u001b[0mdiv\u001b[0m\u001b[1;33m(\u001b[0m\u001b[0mself\u001b[0m\u001b[1;33m,\u001b[0m \u001b[0mscalar\u001b[0m\u001b[1;33m)\u001b[0m\u001b[1;33m:\u001b[0m\u001b[1;33m\u001b[0m\u001b[1;33m\u001b[0m\u001b[0m\n\u001b[0;32m     58\u001b[0m         \u001b[1;32mif\u001b[0m \u001b[1;32mnot\u001b[0m \u001b[0misinstance\u001b[0m\u001b[1;33m(\u001b[0m\u001b[0mscalar\u001b[0m\u001b[1;33m,\u001b[0m \u001b[1;33m(\u001b[0m\u001b[0mfloat\u001b[0m\u001b[1;33m,\u001b[0m \u001b[0mint\u001b[0m\u001b[1;33m)\u001b[0m\u001b[1;33m)\u001b[0m\u001b[1;33m:\u001b[0m\u001b[1;33m\u001b[0m\u001b[1;33m\u001b[0m\u001b[0m\n\u001b[1;32m---> 59\u001b[1;33m             \u001b[1;32mraise\u001b[0m \u001b[0mValueError\u001b[0m\u001b[1;33m(\u001b[0m\u001b[1;34m\"scalar must be a numeric\"\u001b[0m\u001b[1;33m)\u001b[0m\u001b[1;33m\u001b[0m\u001b[1;33m\u001b[0m\u001b[0m\n\u001b[0m\u001b[0;32m     60\u001b[0m         \u001b[1;32mreturn\u001b[0m \u001b[0mself\u001b[0m\u001b[1;33m.\u001b[0m\u001b[0mmult\u001b[0m\u001b[1;33m(\u001b[0m\u001b[1;36m1\u001b[0m \u001b[1;33m/\u001b[0m \u001b[0mscalar\u001b[0m\u001b[1;33m)\u001b[0m\u001b[1;33m\u001b[0m\u001b[1;33m\u001b[0m\u001b[0m\n\u001b[0;32m     61\u001b[0m \u001b[1;33m\u001b[0m\u001b[0m\n",
      "\u001b[1;31mValueError\u001b[0m: scalar must be a numeric"
     ]
    }
   ],
   "source": [
    "p1/p2"
   ]
  },
  {
   "cell_type": "markdown",
   "id": "d4c9e644",
   "metadata": {},
   "source": [
    "## Uzaklık\n",
    "Bir noktanın uzaklığı hesabı"
   ]
  },
  {
   "cell_type": "markdown",
   "id": "8fd0542c",
   "metadata": {},
   "source": [
    "### Originden olan uzaklık\n",
    "\n",
    "Bir noktanın (0, 0) noktasından (orijinden) uzaklığını hesaplar"
   ]
  },
  {
   "cell_type": "code",
   "execution_count": 14,
   "id": "1d268c6e",
   "metadata": {},
   "outputs": [
    {
     "data": {
      "text/plain": [
       "1.4142135623730951"
      ]
     },
     "execution_count": 14,
     "metadata": {},
     "output_type": "execute_result"
    }
   ],
   "source": [
    "p1.dist()"
   ]
  },
  {
   "cell_type": "markdown",
   "id": "463cfc57",
   "metadata": {},
   "source": [
    "### Diğer noktadan olan uzaklık\n",
    "\n",
    "Bir noktanın başka bir noktandan uzaklığını hesaplar"
   ]
  },
  {
   "cell_type": "code",
   "execution_count": 15,
   "id": "646e6415",
   "metadata": {},
   "outputs": [
    {
     "data": {
      "text/plain": [
       "4.47213595499958"
      ]
     },
     "execution_count": 15,
     "metadata": {},
     "output_type": "execute_result"
    }
   ],
   "source": [
    "p1.dist(p2)"
   ]
  },
  {
   "cell_type": "markdown",
   "id": "92df1f60",
   "metadata": {},
   "source": [
    "### Hata\n",
    "\n",
    "Metod'a nokta veya None dışında bir değer verilirse hata alınır"
   ]
  },
  {
   "cell_type": "code",
   "execution_count": 16,
   "id": "17b92620",
   "metadata": {},
   "outputs": [
    {
     "ename": "ValueError",
     "evalue": "other must be a point or None",
     "output_type": "error",
     "traceback": [
      "\u001b[1;31m---------------------------------------------------------------------------\u001b[0m",
      "\u001b[1;31mValueError\u001b[0m                                Traceback (most recent call last)",
      "\u001b[1;32m~\\AppData\\Local\\Temp/ipykernel_18996/1802256010.py\u001b[0m in \u001b[0;36m<module>\u001b[1;34m\u001b[0m\n\u001b[1;32m----> 1\u001b[1;33m \u001b[0mp1\u001b[0m\u001b[1;33m.\u001b[0m\u001b[0mdist\u001b[0m\u001b[1;33m(\u001b[0m\u001b[1;36m2\u001b[0m\u001b[1;33m)\u001b[0m\u001b[1;33m\u001b[0m\u001b[1;33m\u001b[0m\u001b[0m\n\u001b[0m",
      "\u001b[1;32m~\\PycharmProjects\\v2d\\v2d\\core.py\u001b[0m in \u001b[0;36mdist\u001b[1;34m(self, other)\u001b[0m\n\u001b[0;32m     63\u001b[0m         \u001b[0mother\u001b[0m \u001b[1;33m=\u001b[0m \u001b[0mother\u001b[0m \u001b[1;32mif\u001b[0m \u001b[0mother\u001b[0m \u001b[1;32mis\u001b[0m \u001b[1;32mnot\u001b[0m \u001b[1;32mNone\u001b[0m \u001b[1;32melse\u001b[0m \u001b[0mPoint\u001b[0m\u001b[1;33m(\u001b[0m\u001b[1;33m)\u001b[0m\u001b[1;33m\u001b[0m\u001b[1;33m\u001b[0m\u001b[0m\n\u001b[0;32m     64\u001b[0m         \u001b[1;32mif\u001b[0m \u001b[1;32mnot\u001b[0m \u001b[0misinstance\u001b[0m\u001b[1;33m(\u001b[0m\u001b[0mother\u001b[0m\u001b[1;33m,\u001b[0m \u001b[0mPoint\u001b[0m\u001b[1;33m)\u001b[0m\u001b[1;33m:\u001b[0m\u001b[1;33m\u001b[0m\u001b[1;33m\u001b[0m\u001b[0m\n\u001b[1;32m---> 65\u001b[1;33m             \u001b[1;32mraise\u001b[0m \u001b[0mValueError\u001b[0m\u001b[1;33m(\u001b[0m\u001b[1;34m\"other must be a point or None\"\u001b[0m\u001b[1;33m)\u001b[0m\u001b[1;33m\u001b[0m\u001b[1;33m\u001b[0m\u001b[0m\n\u001b[0m\u001b[0;32m     66\u001b[0m         \u001b[1;32mreturn\u001b[0m \u001b[0mmath\u001b[0m\u001b[1;33m.\u001b[0m\u001b[0msqrt\u001b[0m\u001b[1;33m(\u001b[0m\u001b[0mmath\u001b[0m\u001b[1;33m.\u001b[0m\u001b[0mpow\u001b[0m\u001b[1;33m(\u001b[0m\u001b[0mself\u001b[0m\u001b[1;33m.\u001b[0m\u001b[0mx\u001b[0m \u001b[1;33m-\u001b[0m \u001b[0mother\u001b[0m\u001b[1;33m.\u001b[0m\u001b[0mx\u001b[0m\u001b[1;33m,\u001b[0m \u001b[1;36m2\u001b[0m\u001b[1;33m)\u001b[0m \u001b[1;33m+\u001b[0m \u001b[0mmath\u001b[0m\u001b[1;33m.\u001b[0m\u001b[0mpow\u001b[0m\u001b[1;33m(\u001b[0m\u001b[0mself\u001b[0m\u001b[1;33m.\u001b[0m\u001b[0my\u001b[0m \u001b[1;33m-\u001b[0m \u001b[0mother\u001b[0m\u001b[1;33m.\u001b[0m\u001b[0my\u001b[0m\u001b[1;33m,\u001b[0m \u001b[1;36m2\u001b[0m\u001b[1;33m)\u001b[0m\u001b[1;33m)\u001b[0m\u001b[1;33m\u001b[0m\u001b[1;33m\u001b[0m\u001b[0m\n\u001b[0;32m     67\u001b[0m \u001b[1;33m\u001b[0m\u001b[0m\n",
      "\u001b[1;31mValueError\u001b[0m: other must be a point or None"
     ]
    }
   ],
   "source": [
    "p1.dist(2)"
   ]
  },
  {
   "cell_type": "markdown",
   "id": "56f14150",
   "metadata": {},
   "source": [
    "## Koordinat Dönüşümleri\n",
    "\n",
    "Koordinat dönüşümleri metodları"
   ]
  },
  {
   "cell_type": "markdown",
   "id": "49843542",
   "metadata": {},
   "source": [
    "### Küresel Koordinat Sistemine Dönüşüm\n",
    "\n",
    "Noktanın küresel koordinat sistemi elemanlarını verir"
   ]
  },
  {
   "cell_type": "code",
   "execution_count": 17,
   "id": "bd6e52db",
   "metadata": {},
   "outputs": [
    {
     "data": {
      "text/plain": [
       "(1.4142135623730951, 45.0)"
      ]
     },
     "execution_count": 17,
     "metadata": {},
     "output_type": "execute_result"
    }
   ],
   "source": [
    "p1.to_polar()"
   ]
  },
  {
   "cell_type": "markdown",
   "id": "0fd717d0",
   "metadata": {},
   "source": [
    "### Küresel Koordinat Sisteminden nokta oluşturma\n",
    "\n",
    "Küresel koordinat sistemindeki elemanlardan bir nokta oluşturur"
   ]
  },
  {
   "cell_type": "code",
   "execution_count": 18,
   "id": "f7a94c10",
   "metadata": {
    "scrolled": false
   },
   "outputs": [
    {
     "data": {
      "text/plain": [
       "Point(x=1.0000000000000002, y=1.0000000000000002)"
      ]
     },
     "execution_count": 18,
     "metadata": {},
     "output_type": "execute_result"
    }
   ],
   "source": [
    "Point().from_polar(1.4142135623730951, 45.0)"
   ]
  },
  {
   "cell_type": "markdown",
   "id": "33d49c94",
   "metadata": {},
   "source": [
    "## Nokta-Nokta işlemleri"
   ]
  },
  {
   "cell_type": "markdown",
   "id": "0b46b9af",
   "metadata": {},
   "source": [
    "### Eiştlik denetleme\n",
    "İki vektörün eşit oluğ olmadığını kontrol eder"
   ]
  },
  {
   "cell_type": "code",
   "execution_count": 19,
   "id": "371b9ce2",
   "metadata": {},
   "outputs": [
    {
     "ename": "NameError",
     "evalue": "name 'v1' is not defined",
     "output_type": "error",
     "traceback": [
      "\u001b[1;31m---------------------------------------------------------------------------\u001b[0m",
      "\u001b[1;31mNameError\u001b[0m                                 Traceback (most recent call last)",
      "\u001b[1;32m~\\AppData\\Local\\Temp/ipykernel_18996/273937266.py\u001b[0m in \u001b[0;36m<module>\u001b[1;34m\u001b[0m\n\u001b[1;32m----> 1\u001b[1;33m \u001b[0mv1\u001b[0m \u001b[1;33m==\u001b[0m \u001b[0mv2\u001b[0m\u001b[1;33m\u001b[0m\u001b[1;33m\u001b[0m\u001b[0m\n\u001b[0m",
      "\u001b[1;31mNameError\u001b[0m: name 'v1' is not defined"
     ]
    }
   ],
   "source": [
    "v1 == v2"
   ]
  },
  {
   "cell_type": "markdown",
   "id": "693f94fe",
   "metadata": {},
   "source": [
    "## Diğer işlemler\n",
    "Nokta üzerinde diğer işlemler"
   ]
  },
  {
   "cell_type": "markdown",
   "id": "73b9d335",
   "metadata": {},
   "source": [
    "### Negatif Alma\n",
    "Noktanın x ve y yönünde terse çevirir"
   ]
  },
  {
   "cell_type": "code",
   "execution_count": 20,
   "id": "d3f199ac",
   "metadata": {
    "scrolled": true
   },
   "outputs": [
    {
     "data": {
      "text/plain": [
       "Point(x=-1, y=-1)"
      ]
     },
     "execution_count": 20,
     "metadata": {},
     "output_type": "execute_result"
    }
   ],
   "source": [
    "-p1"
   ]
  },
  {
   "cell_type": "markdown",
   "id": "118b4ce5",
   "metadata": {},
   "source": [
    "### Mutlak değer alma\n",
    "Noktanın mutlak değerini alır (1. bölgeye)"
   ]
  },
  {
   "cell_type": "code",
   "execution_count": 21,
   "id": "f66ffec8",
   "metadata": {},
   "outputs": [
    {
     "data": {
      "text/plain": [
       "Point(x=1, y=5)"
      ]
     },
     "execution_count": 21,
     "metadata": {},
     "output_type": "execute_result"
    }
   ],
   "source": [
    "abs(Point(-1, 5))"
   ]
  },
  {
   "cell_type": "markdown",
   "id": "68d225f6",
   "metadata": {},
   "source": [
    "---"
   ]
  },
  {
   "cell_type": "markdown",
   "id": "dcb24d04",
   "metadata": {},
   "source": [
    "# Vektör\n",
    "\n",
    "Vektör oluşturma"
   ]
  },
  {
   "cell_type": "code",
   "execution_count": 22,
   "id": "1b6c51fc",
   "metadata": {},
   "outputs": [
    {
     "name": "stdout",
     "output_type": "stream",
     "text": [
      "Vector(Point(x=1, y=1))\n",
      "Vector(Point(x=3, y=5))\n"
     ]
    }
   ],
   "source": [
    "v1 = Vector(p1)\n",
    "v2 = Vector(p2)\n",
    "print(v1)\n",
    "print(v2)"
   ]
  },
  {
   "cell_type": "markdown",
   "id": "92e66c67",
   "metadata": {},
   "source": [
    "## Toplama/Çıkarma\n",
    "\n",
    "Toplama ve çıkarma işlemleri"
   ]
  },
  {
   "cell_type": "markdown",
   "id": "5f34df10",
   "metadata": {},
   "source": [
    "### Toplama\n",
    "\n",
    "Toplama işlemi iki vektör arasında gerçekleşebilir. *add* metodu veya *+* operatörü kullanılabilir"
   ]
  },
  {
   "cell_type": "code",
   "execution_count": 23,
   "id": "4152d81a",
   "metadata": {},
   "outputs": [
    {
     "data": {
      "text/plain": [
       "Vector(Point(x=4, y=6))"
      ]
     },
     "execution_count": 23,
     "metadata": {},
     "output_type": "execute_result"
    }
   ],
   "source": [
    "v1.add(v2)"
   ]
  },
  {
   "cell_type": "code",
   "execution_count": 24,
   "id": "38c552d9",
   "metadata": {},
   "outputs": [
    {
     "data": {
      "text/plain": [
       "Vector(Point(x=4, y=6))"
      ]
     },
     "execution_count": 24,
     "metadata": {},
     "output_type": "execute_result"
    }
   ],
   "source": [
    "v1 + v2"
   ]
  },
  {
   "cell_type": "markdown",
   "id": "e8ee6cb1",
   "metadata": {},
   "source": [
    "### Çıkarma\n",
    "Çıkarma işlemi iki vektör arasında gerçekleşebilir. *sum* metodu veya *-* operatörü kullanılabilir"
   ]
  },
  {
   "cell_type": "code",
   "execution_count": 25,
   "id": "8805a759",
   "metadata": {},
   "outputs": [
    {
     "data": {
      "text/plain": [
       "Vector(Point(x=-2, y=-4))"
      ]
     },
     "execution_count": 25,
     "metadata": {},
     "output_type": "execute_result"
    }
   ],
   "source": [
    "v1.sub(v2)"
   ]
  },
  {
   "cell_type": "code",
   "execution_count": 26,
   "id": "0f85f7c2",
   "metadata": {},
   "outputs": [
    {
     "data": {
      "text/plain": [
       "Vector(Point(x=-2, y=-4))"
      ]
     },
     "execution_count": 26,
     "metadata": {},
     "output_type": "execute_result"
    }
   ],
   "source": [
    "v1 - v2"
   ]
  },
  {
   "cell_type": "markdown",
   "id": "f1d6aa9a",
   "metadata": {},
   "source": [
    "### Hata\n",
    "Çıkarma/Toplama işlemi bir vektör ve vektör olmayan bir değer ile yapılırsa hata alınır"
   ]
  },
  {
   "cell_type": "code",
   "execution_count": 27,
   "id": "f52c9a4d",
   "metadata": {},
   "outputs": [
    {
     "ename": "ValueError",
     "evalue": "other must be a vector",
     "output_type": "error",
     "traceback": [
      "\u001b[1;31m---------------------------------------------------------------------------\u001b[0m",
      "\u001b[1;31mValueError\u001b[0m                                Traceback (most recent call last)",
      "\u001b[1;32m~\\AppData\\Local\\Temp/ipykernel_18996/4037742750.py\u001b[0m in \u001b[0;36m<module>\u001b[1;34m\u001b[0m\n\u001b[1;32m----> 1\u001b[1;33m \u001b[0mv1\u001b[0m \u001b[1;33m-\u001b[0m \u001b[0mp1\u001b[0m\u001b[1;33m\u001b[0m\u001b[1;33m\u001b[0m\u001b[0m\n\u001b[0m",
      "\u001b[1;32m~\\PycharmProjects\\v2d\\v2d\\core.py\u001b[0m in \u001b[0;36m__sub__\u001b[1;34m(self, other)\u001b[0m\n\u001b[0;32m     93\u001b[0m \u001b[1;33m\u001b[0m\u001b[0m\n\u001b[0;32m     94\u001b[0m     \u001b[1;32mdef\u001b[0m \u001b[0m__sub__\u001b[0m\u001b[1;33m(\u001b[0m\u001b[0mself\u001b[0m\u001b[1;33m,\u001b[0m \u001b[0mother\u001b[0m\u001b[1;33m)\u001b[0m\u001b[1;33m:\u001b[0m\u001b[1;33m\u001b[0m\u001b[1;33m\u001b[0m\u001b[0m\n\u001b[1;32m---> 95\u001b[1;33m         \u001b[1;32mreturn\u001b[0m \u001b[0mself\u001b[0m\u001b[1;33m.\u001b[0m\u001b[0msub\u001b[0m\u001b[1;33m(\u001b[0m\u001b[0mother\u001b[0m\u001b[1;33m)\u001b[0m\u001b[1;33m\u001b[0m\u001b[1;33m\u001b[0m\u001b[0m\n\u001b[0m\u001b[0;32m     96\u001b[0m \u001b[1;33m\u001b[0m\u001b[0m\n\u001b[0;32m     97\u001b[0m     \u001b[1;32mdef\u001b[0m \u001b[0m__neg__\u001b[0m\u001b[1;33m(\u001b[0m\u001b[0mself\u001b[0m\u001b[1;33m)\u001b[0m\u001b[1;33m:\u001b[0m\u001b[1;33m\u001b[0m\u001b[1;33m\u001b[0m\u001b[0m\n",
      "\u001b[1;32m~\\PycharmProjects\\v2d\\v2d\\core.py\u001b[0m in \u001b[0;36msub\u001b[1;34m(self, other)\u001b[0m\n\u001b[0;32m    142\u001b[0m     \u001b[1;32mdef\u001b[0m \u001b[0msub\u001b[0m\u001b[1;33m(\u001b[0m\u001b[0mself\u001b[0m\u001b[1;33m,\u001b[0m \u001b[0mother\u001b[0m\u001b[1;33m)\u001b[0m\u001b[1;33m:\u001b[0m\u001b[1;33m\u001b[0m\u001b[1;33m\u001b[0m\u001b[0m\n\u001b[0;32m    143\u001b[0m         \u001b[1;32mif\u001b[0m \u001b[1;32mnot\u001b[0m \u001b[0misinstance\u001b[0m\u001b[1;33m(\u001b[0m\u001b[0mother\u001b[0m\u001b[1;33m,\u001b[0m \u001b[0mVector\u001b[0m\u001b[1;33m)\u001b[0m\u001b[1;33m:\u001b[0m\u001b[1;33m\u001b[0m\u001b[1;33m\u001b[0m\u001b[0m\n\u001b[1;32m--> 144\u001b[1;33m             \u001b[1;32mraise\u001b[0m \u001b[0mValueError\u001b[0m\u001b[1;33m(\u001b[0m\u001b[1;34m\"other must be a vector\"\u001b[0m\u001b[1;33m)\u001b[0m\u001b[1;33m\u001b[0m\u001b[1;33m\u001b[0m\u001b[0m\n\u001b[0m\u001b[0;32m    145\u001b[0m         \u001b[1;32mreturn\u001b[0m \u001b[0mVector\u001b[0m\u001b[1;33m(\u001b[0m\u001b[0mself\u001b[0m\u001b[1;33m.\u001b[0m\u001b[0mpoint\u001b[0m \u001b[1;33m-\u001b[0m \u001b[0mother\u001b[0m\u001b[1;33m.\u001b[0m\u001b[0mpoint\u001b[0m\u001b[1;33m)\u001b[0m\u001b[1;33m\u001b[0m\u001b[1;33m\u001b[0m\u001b[0m\n\u001b[0;32m    146\u001b[0m \u001b[1;33m\u001b[0m\u001b[0m\n",
      "\u001b[1;31mValueError\u001b[0m: other must be a vector"
     ]
    }
   ],
   "source": [
    "v1 - p1"
   ]
  },
  {
   "cell_type": "markdown",
   "id": "857037e9",
   "metadata": {},
   "source": [
    "## Çarpma/Bölme\n",
    "Toplama ve çıkarma işlemleri"
   ]
  },
  {
   "cell_type": "markdown",
   "id": "179036fa",
   "metadata": {},
   "source": [
    "### Çarpma\n",
    "Çarpma işlemi vektör ve skaler arasında gerçekleşebilir. *mult* metodu veya \\* operatörü kullanılabilir"
   ]
  },
  {
   "cell_type": "code",
   "execution_count": 28,
   "id": "11bbb4e3",
   "metadata": {},
   "outputs": [
    {
     "data": {
      "text/plain": [
       "Vector(Point(x=2, y=2))"
      ]
     },
     "execution_count": 28,
     "metadata": {},
     "output_type": "execute_result"
    }
   ],
   "source": [
    "v1.mult(2)"
   ]
  },
  {
   "cell_type": "code",
   "execution_count": 29,
   "id": "a705617e",
   "metadata": {},
   "outputs": [
    {
     "data": {
      "text/plain": [
       "Vector(Point(x=2, y=2))"
      ]
     },
     "execution_count": 29,
     "metadata": {},
     "output_type": "execute_result"
    }
   ],
   "source": [
    "v1 * 2"
   ]
  },
  {
   "cell_type": "code",
   "execution_count": 30,
   "id": "11e668f4",
   "metadata": {},
   "outputs": [
    {
     "data": {
      "text/plain": [
       "Vector(Point(x=2, y=2))"
      ]
     },
     "execution_count": 30,
     "metadata": {},
     "output_type": "execute_result"
    }
   ],
   "source": [
    "2 * v1"
   ]
  },
  {
   "cell_type": "markdown",
   "id": "344a1f3b",
   "metadata": {},
   "source": [
    "### Bölme\n",
    "Bölme işlemi vektör ve skaler arasında gerçekleşebilir. *div* metodu veya / operatörü kullanılabilir"
   ]
  },
  {
   "cell_type": "code",
   "execution_count": 31,
   "id": "0e9399a9",
   "metadata": {},
   "outputs": [
    {
     "data": {
      "text/plain": [
       "Vector(Point(x=0.5, y=0.5))"
      ]
     },
     "execution_count": 31,
     "metadata": {},
     "output_type": "execute_result"
    }
   ],
   "source": [
    "v1.div(2)"
   ]
  },
  {
   "cell_type": "code",
   "execution_count": 32,
   "id": "85ec25db",
   "metadata": {},
   "outputs": [
    {
     "data": {
      "text/plain": [
       "Vector(Point(x=0.5, y=0.5))"
      ]
     },
     "execution_count": 32,
     "metadata": {},
     "output_type": "execute_result"
    }
   ],
   "source": [
    "v1/2"
   ]
  },
  {
   "cell_type": "markdown",
   "id": "e0b1d889",
   "metadata": {},
   "source": [
    "### Hata\n",
    "Çarpma/Bölme işlemi bir vektör ve skaler olmayan bir değer ile yapılırsa hata alınır"
   ]
  },
  {
   "cell_type": "code",
   "execution_count": 33,
   "id": "8998032f",
   "metadata": {},
   "outputs": [
    {
     "ename": "ValueError",
     "evalue": "scalar must be a numeric",
     "output_type": "error",
     "traceback": [
      "\u001b[1;31m---------------------------------------------------------------------------\u001b[0m",
      "\u001b[1;31mValueError\u001b[0m                                Traceback (most recent call last)",
      "\u001b[1;32m~\\AppData\\Local\\Temp/ipykernel_18996/2841534775.py\u001b[0m in \u001b[0;36m<module>\u001b[1;34m\u001b[0m\n\u001b[1;32m----> 1\u001b[1;33m \u001b[0mv1\u001b[0m \u001b[1;33m/\u001b[0m \u001b[0mv2\u001b[0m\u001b[1;33m\u001b[0m\u001b[1;33m\u001b[0m\u001b[0m\n\u001b[0m",
      "\u001b[1;32m~\\PycharmProjects\\v2d\\v2d\\core.py\u001b[0m in \u001b[0;36m__truediv__\u001b[1;34m(self, other)\u001b[0m\n\u001b[0;32m    111\u001b[0m \u001b[1;33m\u001b[0m\u001b[0m\n\u001b[0;32m    112\u001b[0m     \u001b[1;32mdef\u001b[0m \u001b[0m__truediv__\u001b[0m\u001b[1;33m(\u001b[0m\u001b[0mself\u001b[0m\u001b[1;33m,\u001b[0m \u001b[0mother\u001b[0m\u001b[1;33m)\u001b[0m\u001b[1;33m:\u001b[0m\u001b[1;33m\u001b[0m\u001b[1;33m\u001b[0m\u001b[0m\n\u001b[1;32m--> 113\u001b[1;33m         \u001b[1;32mreturn\u001b[0m \u001b[0mself\u001b[0m\u001b[1;33m.\u001b[0m\u001b[0mdiv\u001b[0m\u001b[1;33m(\u001b[0m\u001b[0mother\u001b[0m\u001b[1;33m)\u001b[0m\u001b[1;33m\u001b[0m\u001b[1;33m\u001b[0m\u001b[0m\n\u001b[0m\u001b[0;32m    114\u001b[0m \u001b[1;33m\u001b[0m\u001b[0m\n\u001b[0;32m    115\u001b[0m     \u001b[1;32mdef\u001b[0m \u001b[0m__eq__\u001b[0m\u001b[1;33m(\u001b[0m\u001b[0mself\u001b[0m\u001b[1;33m,\u001b[0m \u001b[0mother\u001b[0m\u001b[1;33m)\u001b[0m\u001b[1;33m:\u001b[0m\u001b[1;33m\u001b[0m\u001b[1;33m\u001b[0m\u001b[0m\n",
      "\u001b[1;32m~\\PycharmProjects\\v2d\\v2d\\core.py\u001b[0m in \u001b[0;36mdiv\u001b[1;34m(self, scalar)\u001b[0m\n\u001b[0;32m    132\u001b[0m     \u001b[1;32mdef\u001b[0m \u001b[0mdiv\u001b[0m\u001b[1;33m(\u001b[0m\u001b[0mself\u001b[0m\u001b[1;33m,\u001b[0m \u001b[0mscalar\u001b[0m\u001b[1;33m)\u001b[0m\u001b[1;33m:\u001b[0m\u001b[1;33m\u001b[0m\u001b[1;33m\u001b[0m\u001b[0m\n\u001b[0;32m    133\u001b[0m         \u001b[1;32mif\u001b[0m \u001b[1;32mnot\u001b[0m \u001b[0misinstance\u001b[0m\u001b[1;33m(\u001b[0m\u001b[0mscalar\u001b[0m\u001b[1;33m,\u001b[0m \u001b[1;33m(\u001b[0m\u001b[0mfloat\u001b[0m\u001b[1;33m,\u001b[0m \u001b[0mint\u001b[0m\u001b[1;33m)\u001b[0m\u001b[1;33m)\u001b[0m\u001b[1;33m:\u001b[0m\u001b[1;33m\u001b[0m\u001b[1;33m\u001b[0m\u001b[0m\n\u001b[1;32m--> 134\u001b[1;33m             \u001b[1;32mraise\u001b[0m \u001b[0mValueError\u001b[0m\u001b[1;33m(\u001b[0m\u001b[1;34m\"scalar must be a numeric\"\u001b[0m\u001b[1;33m)\u001b[0m\u001b[1;33m\u001b[0m\u001b[1;33m\u001b[0m\u001b[0m\n\u001b[0m\u001b[0;32m    135\u001b[0m         \u001b[1;32mreturn\u001b[0m \u001b[0mVector\u001b[0m\u001b[1;33m(\u001b[0m\u001b[0mself\u001b[0m\u001b[1;33m.\u001b[0m\u001b[0mpoint\u001b[0m \u001b[1;33m/\u001b[0m \u001b[0mscalar\u001b[0m\u001b[1;33m)\u001b[0m\u001b[1;33m\u001b[0m\u001b[1;33m\u001b[0m\u001b[0m\n\u001b[0;32m    136\u001b[0m \u001b[1;33m\u001b[0m\u001b[0m\n",
      "\u001b[1;31mValueError\u001b[0m: scalar must be a numeric"
     ]
    }
   ],
   "source": [
    "v1 / v2"
   ]
  },
  {
   "cell_type": "markdown",
   "id": "e25cad77",
   "metadata": {},
   "source": [
    "## Özellikler\n",
    "Vektör özelliklerini verir"
   ]
  },
  {
   "cell_type": "markdown",
   "id": "e5067662",
   "metadata": {},
   "source": [
    "### Şiddeti/Uzunluğu/Boyu\n",
    "Vektörün Şiddetini verir"
   ]
  },
  {
   "cell_type": "code",
   "execution_count": 34,
   "id": "6214f3e6",
   "metadata": {},
   "outputs": [
    {
     "data": {
      "text/plain": [
       "1.4142135623730951"
      ]
     },
     "execution_count": 34,
     "metadata": {},
     "output_type": "execute_result"
    }
   ],
   "source": [
    "v1.mag()"
   ]
  },
  {
   "cell_type": "markdown",
   "id": "801193f0",
   "metadata": {},
   "source": [
    "### Yönü\n",
    "Vektörün yönünü verir"
   ]
  },
  {
   "cell_type": "code",
   "execution_count": 35,
   "id": "b2a8ead2",
   "metadata": {},
   "outputs": [
    {
     "data": {
      "text/plain": [
       "45.0"
      ]
     },
     "execution_count": 35,
     "metadata": {},
     "output_type": "execute_result"
    }
   ],
   "source": [
    "v1.heading()"
   ]
  },
  {
   "cell_type": "markdown",
   "id": "ed1750ac",
   "metadata": {},
   "source": [
    "### Birim Vektör\n",
    "Vektöre ait birim vektörü verir"
   ]
  },
  {
   "cell_type": "code",
   "execution_count": 36,
   "id": "93992a49",
   "metadata": {},
   "outputs": [
    {
     "data": {
      "text/plain": [
       "Vector(Point(x=0.7071067811865475, y=0.7071067811865475))"
      ]
     },
     "execution_count": 36,
     "metadata": {},
     "output_type": "execute_result"
    }
   ],
   "source": [
    "v1.unit()"
   ]
  },
  {
   "cell_type": "markdown",
   "id": "bcf777a1",
   "metadata": {},
   "source": [
    "## Vektör İşlemleri\n",
    "Vektör üzerinde işlemler"
   ]
  },
  {
   "cell_type": "markdown",
   "id": "5e5616d9",
   "metadata": {},
   "source": [
    "### Döndürme\n",
    "Verktörü verilen açı kadar pozitif yönde(saat yönü tersine) çevirir"
   ]
  },
  {
   "cell_type": "code",
   "execution_count": 37,
   "id": "8e8604db",
   "metadata": {},
   "outputs": [
    {
     "data": {
      "text/plain": [
       "Vector(Point(x=8.659560562354934e-17, y=1.4142135623730951))"
      ]
     },
     "execution_count": 37,
     "metadata": {},
     "output_type": "execute_result"
    }
   ],
   "source": [
    "v1.rotate(45)"
   ]
  },
  {
   "cell_type": "markdown",
   "id": "35ff1cc9",
   "metadata": {},
   "source": [
    "### Vektör-Vektör İşlemleri\n",
    "Vektör ile başka bir vektör arasında yapıabilen işlemler"
   ]
  },
  {
   "cell_type": "markdown",
   "id": "45b787f8",
   "metadata": {},
   "source": [
    "### Nokta Çarpım\n",
    "İki vektörün nokta çarpımı (dot product) verir"
   ]
  },
  {
   "cell_type": "code",
   "execution_count": 38,
   "id": "71adef05",
   "metadata": {},
   "outputs": [
    {
     "data": {
      "text/plain": [
       "8"
      ]
     },
     "execution_count": 38,
     "metadata": {},
     "output_type": "execute_result"
    }
   ],
   "source": [
    "v1.dot(v2)"
   ]
  },
  {
   "cell_type": "markdown",
   "id": "026356f7",
   "metadata": {},
   "source": [
    "### Paralel mi\n",
    "İkği vektörün paralel olup olmadığını kontrol eder"
   ]
  },
  {
   "cell_type": "code",
   "execution_count": 39,
   "id": "1589974c",
   "metadata": {},
   "outputs": [
    {
     "data": {
      "text/plain": [
       "False"
      ]
     },
     "execution_count": 39,
     "metadata": {},
     "output_type": "execute_result"
    }
   ],
   "source": [
    "v1.is_parallel(v2)"
   ]
  },
  {
   "cell_type": "markdown",
   "id": "6b1d224c",
   "metadata": {},
   "source": [
    "### Dik mi\n",
    "İki vektörün dik olup olmadığını kontrol eder"
   ]
  },
  {
   "cell_type": "code",
   "execution_count": 40,
   "id": "da364916",
   "metadata": {},
   "outputs": [
    {
     "data": {
      "text/plain": [
       "False"
      ]
     },
     "execution_count": 40,
     "metadata": {},
     "output_type": "execute_result"
    }
   ],
   "source": [
    "v1.is_perpendicular(v2)"
   ]
  },
  {
   "cell_type": "markdown",
   "id": "a3d61c3c",
   "metadata": {},
   "source": [
    "### Aralarındaki Açı\n",
    "İki vektör arasındaki açıyı verir"
   ]
  },
  {
   "cell_type": "code",
   "execution_count": 41,
   "id": "56c9d920",
   "metadata": {},
   "outputs": [
    {
     "data": {
      "text/plain": [
       "14.036243467926479"
      ]
     },
     "execution_count": 41,
     "metadata": {},
     "output_type": "execute_result"
    }
   ],
   "source": [
    "v1.angle_between(v2)"
   ]
  },
  {
   "cell_type": "code",
   "execution_count": 42,
   "id": "63bca815",
   "metadata": {},
   "outputs": [
    {
     "data": {
      "text/plain": [
       "14.036243467926482"
      ]
     },
     "execution_count": 42,
     "metadata": {},
     "output_type": "execute_result"
    }
   ],
   "source": [
    "v2.heading() - v1.heading()"
   ]
  },
  {
   "cell_type": "markdown",
   "id": "ad0137ec",
   "metadata": {},
   "source": [
    "### Eiştlik denetleme\n",
    "İki vektörün eşit oluğ olmadığını kontrol eder"
   ]
  },
  {
   "cell_type": "code",
   "execution_count": 43,
   "id": "e67b5055",
   "metadata": {},
   "outputs": [
    {
     "data": {
      "text/plain": [
       "False"
      ]
     },
     "execution_count": 43,
     "metadata": {},
     "output_type": "execute_result"
    }
   ],
   "source": [
    "v1 == v2"
   ]
  },
  {
   "cell_type": "markdown",
   "id": "3704045f",
   "metadata": {},
   "source": [
    "## Diğer işlemler\n",
    "Vektör üzerinde diğer işlemler"
   ]
  },
  {
   "cell_type": "markdown",
   "id": "e20ee35f",
   "metadata": {},
   "source": [
    "### Negatif alma\n",
    "Vektörün yönünü terse çevirir"
   ]
  },
  {
   "cell_type": "code",
   "execution_count": 44,
   "id": "c5e5920d",
   "metadata": {},
   "outputs": [
    {
     "data": {
      "text/plain": [
       "Vector(Point(x=-1, y=-1))"
      ]
     },
     "execution_count": 44,
     "metadata": {},
     "output_type": "execute_result"
    }
   ],
   "source": [
    "-v1"
   ]
  },
  {
   "cell_type": "markdown",
   "id": "77aaf8b2",
   "metadata": {},
   "source": [
    "### Mutlak değer alma\n",
    "Vektörün mutlak değerini alır (1. bölgeye)"
   ]
  },
  {
   "cell_type": "code",
   "execution_count": 45,
   "id": "3a5b90e8",
   "metadata": {},
   "outputs": [
    {
     "data": {
      "text/plain": [
       "Vector(Point(x=1, y=2))"
      ]
     },
     "execution_count": 45,
     "metadata": {},
     "output_type": "execute_result"
    }
   ],
   "source": [
    "abs(Vector(Point(-1, -2)))"
   ]
  },
  {
   "cell_type": "code",
   "execution_count": null,
   "id": "087a486b",
   "metadata": {},
   "outputs": [],
   "source": []
  }
 ],
 "metadata": {
  "kernelspec": {
   "display_name": "Python 3 (ipykernel)",
   "language": "python",
   "name": "python3"
  },
  "language_info": {
   "codemirror_mode": {
    "name": "ipython",
    "version": 3
   },
   "file_extension": ".py",
   "mimetype": "text/x-python",
   "name": "python",
   "nbconvert_exporter": "python",
   "pygments_lexer": "ipython3",
   "version": "3.7.10"
  }
 },
 "nbformat": 4,
 "nbformat_minor": 5
}
